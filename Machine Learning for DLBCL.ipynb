{
 "cells": [
  {
   "cell_type": "code",
   "execution_count": 1,
   "id": "fd8d40c7",
   "metadata": {},
   "outputs": [],
   "source": [
    "import pandas as pd\n",
    "import numpy as np\n",
    "import seaborn as sns\n",
    "import matplotlib.pyplot as plt\n",
    "np.random.seed(1)\n",
    "sns.set_style(\"darkgrid\")\n",
    "tfont = {'fontsize':15, 'fontweight':'bold'}\n",
    "from sklearn.preprocessing import StandardScaler, OneHotEncoder, RobustScaler\n",
    "from sklearn.impute import SimpleImputer, KNNImputer\n",
    "from sklearn.compose import make_column_transformer, make_column_selector\n",
    "from sklearn import set_config\n",
    "from sklearn.model_selection import train_test_split, GridSearchCV, learning_curve, cross_val_score,StratifiedKFold\n",
    "from sklearn.tree import DecisionTreeClassifier, plot_tree\n",
    "from sklearn.feature_selection import SelectKBest\n",
    "from sklearn.ensemble import RandomForestClassifier\n",
    "from sklearn .metrics import classification_report, confusion_matrix, accuracy_score\n",
    "from sklearn import metrics \n",
    "from sklearn.metrics import precision_recall_fscore_support as score,roc_auc_score\n",
    "from sklearn.model_selection import train_test_split, GridSearchCV\n",
    "from sklearn.svm import SVC\n",
    "from sklearn.metrics import classification_report\n",
    "from sklearn.metrics import auc\n",
    "import matplotlib.pyplot as plt\n",
    "from sklearn.pipeline import make_pipeline\n",
    "from sklearn.preprocessing import StandardScaler\n",
    "from sklearn.model_selection import GridSearchCV, train_test_split, StratifiedKFold\n",
    "from sklearn.svm import NuSVC"
   ]
  },
  {
   "cell_type": "code",
   "execution_count": 2,
   "id": "993858a2",
   "metadata": {},
   "outputs": [],
   "source": [
    "data=pd.read_excel(r'C:\\Users\\path')"
   ]
  },
  {
   "cell_type": "code",
   "execution_count": 3,
   "id": "c1db6552",
   "metadata": {},
   "outputs": [
    {
     "data": {
      "text/plain": [
       "Index(['genre ', 'age ', 'service adresseur ', 'délai entre services (jours)',\n",
       "       'délai diag Ttt (jours)', 'Ttt_un', 'reponse_ligne_un', 'pheno  GC',\n",
       "       'stade Ann Arbor ', 'tabac ', 'alcool', 'EBV', 'socio-eco',\n",
       "       'double hit', 'triple hit', 'IPI', 'ext SN', 'COVID', 'TEP 2 cures ',\n",
       "       'infection CMV', 'CoM', 'cat_age_un', 'cat_age_deux', 'cat_age_trois',\n",
       "       'cat_age_quatre', 'surpoids', 'BMI_30_à_35', 'BMI_35_à_40',\n",
       "       'BMI_sup_40', 'bmi'],\n",
       "      dtype='object')"
      ]
     },
     "execution_count": 3,
     "metadata": {},
     "output_type": "execute_result"
    }
   ],
   "source": [
    "data.columns"
   ]
  },
  {
   "cell_type": "code",
   "execution_count": 4,
   "id": "8bdb47da",
   "metadata": {},
   "outputs": [
    {
     "data": {
      "text/plain": [
       "genre                            0\n",
       "age                              0\n",
       "service adresseur                0\n",
       "délai entre services (jours)    11\n",
       "délai diag Ttt (jours)           1\n",
       "Ttt_un                           0\n",
       "reponse_ligne_un                 0\n",
       "pheno  GC                        0\n",
       "stade Ann Arbor                  0\n",
       "tabac                            0\n",
       "alcool                           0\n",
       "EBV                              0\n",
       "socio-eco                        0\n",
       "double hit                       0\n",
       "triple hit                       0\n",
       "IPI                              0\n",
       "ext SN                           1\n",
       "COVID                            0\n",
       "TEP 2 cures                      0\n",
       "infection CMV                    0\n",
       "CoM                              0\n",
       "cat_age_un                       0\n",
       "cat_age_deux                     0\n",
       "cat_age_trois                    0\n",
       "cat_age_quatre                   0\n",
       "surpoids                         0\n",
       "BMI_30_à_35                      0\n",
       "BMI_35_à_40                      0\n",
       "BMI_sup_40                       0\n",
       "bmi                              0\n",
       "dtype: int64"
      ]
     },
     "execution_count": 4,
     "metadata": {},
     "output_type": "execute_result"
    }
   ],
   "source": [
    "data.isnull().sum()"
   ]
  },
  {
   "cell_type": "code",
   "execution_count": 5,
   "id": "80822313",
   "metadata": {},
   "outputs": [
    {
     "data": {
      "text/plain": [
       "reponse_ligne_un\n",
       "0    78\n",
       "1    42\n",
       "Name: count, dtype: int64"
      ]
     },
     "execution_count": 5,
     "metadata": {},
     "output_type": "execute_result"
    }
   ],
   "source": [
    "data[\"reponse_ligne_un\"].value_counts()"
   ]
  },
  {
   "cell_type": "code",
   "execution_count": 6,
   "id": "cb5f1006",
   "metadata": {},
   "outputs": [
    {
     "data": {
      "text/plain": [
       "genre                            object\n",
       "age                             float64\n",
       "service adresseur                object\n",
       "délai entre services (jours)    float64\n",
       "délai diag Ttt (jours)          float64\n",
       "Ttt_un                           object\n",
       "reponse_ligne_un                  int64\n",
       "pheno  GC                        object\n",
       "stade Ann Arbor                  object\n",
       "tabac                            object\n",
       "alcool                           object\n",
       "EBV                              object\n",
       "socio-eco                        object\n",
       "double hit                       object\n",
       "triple hit                       object\n",
       "IPI                              object\n",
       "ext SN                           object\n",
       "COVID                            object\n",
       "TEP 2 cures                      object\n",
       "infection CMV                    object\n",
       "CoM                              object\n",
       "cat_age_un                        int64\n",
       "cat_age_deux                      int64\n",
       "cat_age_trois                     int64\n",
       "cat_age_quatre                    int64\n",
       "surpoids                         object\n",
       "BMI_30_à_35                      object\n",
       "BMI_35_à_40                      object\n",
       "BMI_sup_40                       object\n",
       "bmi                             float64\n",
       "dtype: object"
      ]
     },
     "execution_count": 6,
     "metadata": {},
     "output_type": "execute_result"
    }
   ],
   "source": [
    "data.dtypes"
   ]
  },
  {
   "cell_type": "code",
   "execution_count": 7,
   "id": "a13261a8",
   "metadata": {},
   "outputs": [],
   "source": [
    "data[data==np.inf]=np.nan"
   ]
  },
  {
   "cell_type": "markdown",
   "id": "6c096315",
   "metadata": {},
   "source": [
    "Première partie  - Part one "
   ]
  },
  {
   "cell_type": "code",
   "execution_count": null,
   "id": "9bac24c9",
   "metadata": {},
   "outputs": [],
   "source": [
    "Random forest "
   ]
  },
  {
   "cell_type": "code",
   "execution_count": 8,
   "id": "b33d8e6b",
   "metadata": {},
   "outputs": [],
   "source": [
    "data['cat_age_un']= data['cat_age_un'].astype('object')"
   ]
  },
  {
   "cell_type": "code",
   "execution_count": 9,
   "id": "678c3377",
   "metadata": {},
   "outputs": [],
   "source": [
    "data['cat_age_deux']= data['cat_age_deux'].astype('object')"
   ]
  },
  {
   "cell_type": "code",
   "execution_count": 10,
   "id": "af0a6c34",
   "metadata": {},
   "outputs": [],
   "source": [
    "data['cat_age_trois']= data['cat_age_trois'].astype('object')"
   ]
  },
  {
   "cell_type": "code",
   "execution_count": 11,
   "id": "812b386f",
   "metadata": {},
   "outputs": [],
   "source": [
    "data['cat_age_quatre']= data['cat_age_quatre'].astype('object')"
   ]
  },
  {
   "cell_type": "code",
   "execution_count": 12,
   "id": "56b23345",
   "metadata": {},
   "outputs": [],
   "source": [
    "data[\"ext SN\"]=data[\"ext SN\"].fillna(\"non\")"
   ]
  },
  {
   "cell_type": "code",
   "execution_count": 13,
   "id": "9bd4f2d5",
   "metadata": {},
   "outputs": [],
   "source": [
    "data.loc[data[\"genre \"]==\"femme \",'genre ']=\"femme\""
   ]
  },
  {
   "cell_type": "code",
   "execution_count": 14,
   "id": "215a0660",
   "metadata": {},
   "outputs": [],
   "source": [
    "data.loc[data[\"Ttt_un\"]==\"R-CEOP\",'Ttt_un']=\"R-CHOP\"\n",
    "data.loc[data[\"Ttt_un\"]==\"EPOCH\",'Ttt_un']=\"R-DA-EPOCH\""
   ]
  },
  {
   "cell_type": "code",
   "execution_count": 15,
   "id": "f13b049b",
   "metadata": {},
   "outputs": [],
   "source": [
    "data.loc[data[\"Ttt_un\"]==\"R-CEOP\",'Ttt_un']=\"R-CHOP\"\n",
    "data.loc[data[\"Ttt_un\"]==\"R-GEMOX\",'Ttt_un']=\"R-CHOP\"\n",
    "data.loc[data[\"Ttt_un\"]==\"R-CVP\",'Ttt_un']=\"R-CHOP\"\n",
    "data.loc[data[\"Ttt_un\"]==\"R-leukeran\",'Ttt_un']=\"R-CHOP\"\n",
    "data.loc[data[\"Ttt_un\"]==\"CHOEP\",'Ttt_un']=\"R-CHOP\"\n",
    "data.loc[data[\"Ttt_un\"]==\"R_DAOX\",'Ttt_un']=\"R-CHOP\"\n",
    "data.loc[data[\"Ttt_un\"]==\"COP\",'Ttt_un']=\"R-CHOP\"\n",
    "data.loc[data[\"Ttt_un\"]==\"R-COP\",'Ttt_un']=\"R-CHOP\"\n",
    "data.loc[data[\"Ttt_un\"]==\"endoxan-steroide\",'Ttt_un']=\"R-CHOP\"\n",
    "data.loc[data[\"Ttt_un\"]==\"VCR\",'Ttt_un']=\"R-CHOP\"\n",
    "data.loc[data[\"Ttt_un\"]==\"mini-CHOP\",'Ttt_un']=\"R-mini-CHOP\"\n",
    "data.loc[data[\"Ttt_un\"]==\"R-CHOEP\",'Ttt_un']=\"R-CHOP\"\n",
    "data.loc[data[\"Ttt_un\"]==\"R-CTOP\",'Ttt_un']=\"R-CHOP\"\n",
    "data.loc[data[\"Ttt_un\"]==\"OP\",'Ttt_un']=\"R-CHOP\"\n",
    "data.loc[data[\"Ttt_un\"]==\"CHOP\",'Ttt_un']=\"R-CHOP\""
   ]
  },
  {
   "cell_type": "code",
   "execution_count": 16,
   "id": "febe3327",
   "metadata": {},
   "outputs": [],
   "source": [
    "data.loc[data[\"Ttt_un\"]==\"R-MPVA\",'Ttt_un']=\"R-CHOP\"\n",
    "data.loc[data[\"Ttt_un\"]==\"R-DA-EPOCH\",'Ttt_un']=\"R-DAEPOCH\"\n",
    "data.loc[data[\"Ttt_un\"]==\"DHAP\",'Ttt_un']=\"R-CHOP\"\n",
    "data.loc[data[\"Ttt_un\"]==\"R-IFO-VP16\",'Ttt_un']=\"R-CHOP\""
   ]
  },
  {
   "cell_type": "code",
   "execution_count": 17,
   "id": "d04c6871",
   "metadata": {},
   "outputs": [
    {
     "data": {
      "text/plain": [
       "Ttt_un\n",
       "R-CHOP         93\n",
       "R-mini-CHOP    14\n",
       "R-ACVBP         7\n",
       "R-DAEPOCH       5\n",
       "R-DAOX          1\n",
       "Name: count, dtype: int64"
      ]
     },
     "execution_count": 17,
     "metadata": {},
     "output_type": "execute_result"
    }
   ],
   "source": [
    "data[\"Ttt_un\"].value_counts()"
   ]
  },
  {
   "cell_type": "code",
   "execution_count": 18,
   "id": "776eaf11",
   "metadata": {},
   "outputs": [],
   "source": [
    "data[\"Ttt_un\"]= data[\"Ttt_un\"].astype('object')"
   ]
  },
  {
   "cell_type": "code",
   "execution_count": 19,
   "id": "3506311f",
   "metadata": {},
   "outputs": [],
   "source": [
    "data.loc[data[\"service adresseur \"]==\"medecin traitant\",'service adresseur ']=\"MT\"\n",
    "data.loc[data[\"service adresseur \"]==\"HGE\",'service adresseur ']=\"medecine\"\n",
    "data.loc[data[\"service adresseur \"]==\"pneumo\",'service adresseur ']=\"medecine\"\n",
    "data.loc[data[\"service adresseur \"]==\"oncologie\",'service adresseur ']=\"medecine\"\n",
    "data.loc[data[\"service adresseur \"]==\"geriatrie\",'service adresseur ']=\"medecine\"\n",
    "data.loc[data[\"service adresseur \"]==\"gériatrie\",'service adresseur ']=\"medecine\"\n",
    "data.loc[data[\"service adresseur \"]==\"hemato\",'service adresseur ']=\"medecine\"\n",
    "data.loc[data[\"service adresseur \"]==\"urgences \",'service adresseur ']=\"medecine\"\n",
    "data.loc[data[\"service adresseur \"]==\"chirurgie digestive\",'service adresseur ']=\"chirurgie\"\n",
    "data.loc[data[\"service adresseur \"]==\"gosselies\",'service adresseur ']=\"medecine\"\n",
    "data.loc[data[\"service adresseur \"]==\"Gosselies\",'service adresseur ']=\"medecine\"\n",
    "data.loc[data[\"service adresseur \"]==\"ORL extra\",'service adresseur ']=\"chirurgie\"\n",
    "data.loc[data[\"service adresseur \"]==\"ORL intra\",'service adresseur ']=\"chirurgie\"\n",
    "data.loc[data[\"service adresseur \"]==\"nephrologie\",'service adresseur ']=\"medecine\"\n",
    "data.loc[data[\"service adresseur \"]==\"medecine interne\",'service adresseur ']=\"medecine\"\n",
    "data.loc[data[\"service adresseur \"]==\"gyneco\",'service adresseur ']=\"gyneco\"\n",
    "data.loc[data[\"service adresseur \"]==\"Chirurgie maxillaire\",'service adresseur ']=\"gyneco\"\n",
    "data.loc[data[\"service adresseur \"]==\"neurochirugie\",'service adresseur ']=\"gyneco\"\n",
    "data.loc[data[\"service adresseur \"]==\"neurochirurgie\",'service adresseur ']=\"gyneco\"\n",
    "data.loc[data[\"service adresseur \"]==\"Espagne\",'service adresseur ']=\"medecine\"\n",
    "data.loc[data[\"service adresseur \"]==\"urologie\",'service adresseur ']=\"gyneco\"\n",
    "data.loc[data[\"service adresseur \"]==\"cardiologie\",'service adresseur ']=\"medecine\"\n",
    "data.loc[data[\"service adresseur \"]==\"indéterminé\",'service adresseur ']=\"medecine\"\n",
    "data.loc[data[\"service adresseur \"]==\"nephrologie\",'service adresseur ']=\"medecine\"\n",
    "data.loc[data[\"service adresseur \"]==\"endocrino\",'service adresseur ']=\"medecine\"\n",
    "data.loc[data[\"service adresseur \"]==\"rhumatologie\",'service adresseur ']=\"medecine\"\n",
    "data.loc[data[\"service adresseur \"]==\"ortho\",'service adresseur ']=\"gyneco\"\n",
    "data.loc[data[\"service adresseur \"]==\"neurologie\",'service adresseur ']=\"medecine\"\n",
    "data.loc[data[\"service adresseur \"]==\"dermato\",'service adresseur ']=\"medecine\"\n",
    "data.loc[data[\"service adresseur \"]==\"orthopedie\",'service adresseur ']=\"gyneco\"\n",
    "data.loc[data[\"service adresseur \"]==\"CHU\",'service adresseur ']=\"medecine\""
   ]
  },
  {
   "cell_type": "code",
   "execution_count": 20,
   "id": "75ed053e",
   "metadata": {},
   "outputs": [],
   "source": [
    "data['service adresseur ']= data['service adresseur '].astype('object')"
   ]
  },
  {
   "cell_type": "code",
   "execution_count": 21,
   "id": "b63847a9",
   "metadata": {},
   "outputs": [
    {
     "data": {
      "text/plain": [
       "service adresseur \n",
       "medecine     76\n",
       "MT           25\n",
       "gyneco       10\n",
       "chirurgie     9\n",
       "Name: count, dtype: int64"
      ]
     },
     "execution_count": 21,
     "metadata": {},
     "output_type": "execute_result"
    }
   ],
   "source": [
    "data[\"service adresseur \"].value_counts()"
   ]
  },
  {
   "cell_type": "code",
   "execution_count": 22,
   "id": "562d947a",
   "metadata": {},
   "outputs": [],
   "source": [
    "data.loc[data[\"stade Ann Arbor \"]==\"non_evalue\",'stade Ann Arbor ']=\"quatre\""
   ]
  },
  {
   "cell_type": "code",
   "execution_count": 23,
   "id": "024e137f",
   "metadata": {},
   "outputs": [],
   "source": [
    "data['délai entre services (jours)']=data['délai entre services (jours)'].fillna(17.5)"
   ]
  },
  {
   "cell_type": "code",
   "execution_count": 24,
   "id": "d8a7700e",
   "metadata": {},
   "outputs": [],
   "source": [
    "data['délai diag Ttt (jours)']= data['délai diag Ttt (jours)'].fillna(6)"
   ]
  },
  {
   "cell_type": "code",
   "execution_count": 25,
   "id": "b5801526",
   "metadata": {},
   "outputs": [],
   "source": [
    "data.loc[data[\"socio-eco\"]==\"deficient\",'socio-eco']=\"précaire\""
   ]
  },
  {
   "cell_type": "code",
   "execution_count": 26,
   "id": "30f11cd1",
   "metadata": {},
   "outputs": [],
   "source": [
    "data[\"socio-eco\"]= data[\"socio-eco\"].astype('object')"
   ]
  },
  {
   "cell_type": "code",
   "execution_count": 27,
   "id": "8fee8d8c",
   "metadata": {},
   "outputs": [],
   "source": [
    "X = data.drop(columns='reponse_ligne_un')\n",
    "y = data['reponse_ligne_un']"
   ]
  },
  {
   "cell_type": "code",
   "execution_count": 28,
   "id": "9d2a9b01",
   "metadata": {},
   "outputs": [],
   "source": [
    "X_train, X_test, y_train, y_test = train_test_split(X, y, test_size=0.15, random_state = 1)"
   ]
  },
  {
   "cell_type": "code",
   "execution_count": 29,
   "id": "da86b73b",
   "metadata": {},
   "outputs": [],
   "source": [
    "cat_col = list(X_train.select_dtypes('object'))\n",
    "float_col = list(X_train.select_dtypes(float))\n",
    "\n",
    "cat_pipe = make_pipeline(SimpleImputer(strategy='most_frequent'),\n",
    "                         OneHotEncoder(handle_unknown='ignore'))\n",
    "\n",
    "float_pipe = make_pipeline(KNNImputer())\n",
    "\n",
    "preprocessor = make_column_transformer((cat_pipe, cat_col),\n",
    "                                       (float_pipe, float_col),\n",
    "                                       remainder='passthrough')"
   ]
  },
  {
   "cell_type": "code",
   "execution_count": 30,
   "id": "040e8162",
   "metadata": {},
   "outputs": [],
   "source": [
    "# foret aléatoire - Random forest "
   ]
  },
  {
   "cell_type": "code",
   "execution_count": 31,
   "id": "ab8e5d40",
   "metadata": {
    "scrolled": false
   },
   "outputs": [
    {
     "name": "stdout",
     "output_type": "stream",
     "text": [
      "Fitting 10 folds for each of 216 candidates, totalling 2160 fits\n",
      "{'randomforestclassifier__max_depth': 5, 'randomforestclassifier__max_features': None, 'randomforestclassifier__max_samples': 0.75, 'randomforestclassifier__min_samples_leaf': 4, 'randomforestclassifier__min_samples_split': 2, 'randomforestclassifier__n_estimators': 50}\n"
     ]
    }
   ],
   "source": [
    "foret_aleatoire = make_pipeline(preprocessor,RandomForestClassifier())\n",
    "\n",
    "params = {'randomforestclassifier__n_estimators':[50,75],\n",
    "          'randomforestclassifier__max_depth': [3,5],\n",
    "          'randomforestclassifier__max_samples':[0.5, 0.75],\n",
    "          'randomforestclassifier__min_samples_split': [2, 5, 10],\n",
    "          'randomforestclassifier__min_samples_leaf': [1, 2, 4],\n",
    "        'randomforestclassifier__max_features': ['sqrt', 'log2', None]\n",
    "         }\n",
    "                            \n",
    "grid = GridSearchCV(foret_aleatoire, param_grid=params, verbose=1, scoring='recall',cv=10)\n",
    "\n",
    "grid.fit(X_train, y_train)\n",
    "\n",
    "print(grid.best_params_)\n",
    "foretaleatoire = grid.best_estimator_"
   ]
  },
  {
   "cell_type": "code",
   "execution_count": 32,
   "id": "35223932",
   "metadata": {},
   "outputs": [],
   "source": [
    "predictions = foretaleatoire.predict(X_test)"
   ]
  },
  {
   "cell_type": "code",
   "execution_count": 33,
   "id": "3a742a95",
   "metadata": {},
   "outputs": [
    {
     "data": {
      "image/png": "[encoded data removed]",
      "text/plain": [
       "<Figure size 640x480 with 1 Axes>"
      ]
     },
     "metadata": {},
     "output_type": "display_data"
    }
   ],
   "source": [
    "fpr,tpr, _ =metrics.roc_curve(y_test,predictions)\n",
    "auc=metrics.roc_auc_score(y_test,predictions)\n",
    "plt.plot(fpr,tpr, label=\"Roc_curve for RF, auc=\" +str(auc))\n",
    "plt.legend()\n",
    "plt.show()"
   ]
  },
  {
   "cell_type": "code",
   "execution_count": 34,
   "id": "80b3711c",
   "metadata": {},
   "outputs": [
    {
     "name": "stdout",
     "output_type": "stream",
     "text": [
      "              precision    recall  f1-score   support\n",
      "\n",
      "           0       0.71      0.91      0.80        11\n",
      "           1       0.75      0.43      0.55         7\n",
      "\n",
      "    accuracy                           0.72        18\n",
      "   macro avg       0.73      0.67      0.67        18\n",
      "weighted avg       0.73      0.72      0.70        18\n",
      "\n"
     ]
    },
    {
     "data": {
      "image/png": "[encoded data removed]",
      "text/plain": [
       "<Figure size 1200x500 with 1 Axes>"
      ]
     },
     "metadata": {},
     "output_type": "display_data"
    }
   ],
   "source": [
    "print(classification_report(y_test, predictions))\n",
    "\n",
    "cm = confusion_matrix(y_test, predictions)\n",
    "plt.figure(figsize=(12, 5))\n",
    "sns.heatmap(cm, annot=True, cbar=False, cmap='Blues')\n",
    "plt.xlabel('y_pred')\n",
    "plt.ylabel('y_test')\n",
    "plt.show()"
   ]
  },
  {
   "cell_type": "code",
   "execution_count": 35,
   "id": "6cdd3b23",
   "metadata": {},
   "outputs": [],
   "source": [
    "from sklearn import metrics "
   ]
  },
  {
   "cell_type": "code",
   "execution_count": 36,
   "id": "bbc85cb7",
   "metadata": {},
   "outputs": [],
   "source": [
    "import sklearn.metrics"
   ]
  },
  {
   "cell_type": "code",
   "execution_count": 37,
   "id": "813fdc52",
   "metadata": {},
   "outputs": [
    {
     "data": {
      "text/plain": [
       "0.6727272727272727"
      ]
     },
     "execution_count": 37,
     "metadata": {},
     "output_type": "execute_result"
    }
   ],
   "source": [
    "sklearn.metrics.f1_score(y_test, predictions, average=\"macro\")"
   ]
  },
  {
   "cell_type": "markdown",
   "id": "b339c96b",
   "metadata": {},
   "source": [
    "Seconde partie - PArt two "
   ]
  },
  {
   "cell_type": "code",
   "execution_count": 1,
   "id": "12792476",
   "metadata": {},
   "outputs": [],
   "source": [
    "import pandas as pd\n",
    "import numpy as np\n",
    "import seaborn as sns\n",
    "import matplotlib.pyplot as plt\n",
    "np.random.seed(1)\n",
    "sns.set_style(\"darkgrid\")\n",
    "tfont = {'fontsize':15, 'fontweight':'bold'}\n",
    "from sklearn.preprocessing import StandardScaler, OneHotEncoder, RobustScaler\n",
    "from sklearn.impute import SimpleImputer, KNNImputer\n",
    "from sklearn.compose import make_column_transformer, make_column_selector\n",
    "from sklearn import set_config\n",
    "from sklearn.model_selection import train_test_split, GridSearchCV, learning_curve, cross_val_score,StratifiedKFold\n",
    "from sklearn.tree import DecisionTreeClassifier, plot_tree\n",
    "from sklearn.feature_selection import SelectKBest\n",
    "from sklearn.ensemble import RandomForestClassifier\n",
    "from sklearn .metrics import classification_report, confusion_matrix, accuracy_score\n",
    "from sklearn import metrics \n",
    "from sklearn.metrics import precision_recall_fscore_support as score,roc_auc_score\n",
    "from sklearn.model_selection import train_test_split, GridSearchCV\n",
    "from sklearn.svm import SVC\n",
    "from sklearn.metrics import classification_report\n",
    "from sklearn.metrics import auc\n",
    "import matplotlib.pyplot as plt\n",
    "from sklearn.pipeline import make_pipeline\n",
    "from sklearn.preprocessing import StandardScaler\n",
    "from sklearn.model_selection import GridSearchCV, train_test_split, StratifiedKFold\n",
    "from sklearn.svm import NuSVC"
   ]
  },
  {
   "cell_type": "code",
   "execution_count": 2,
   "id": "79297d79",
   "metadata": {},
   "outputs": [],
   "source": [
    "data=pd.read_excel(r'C:\\Users\\path')"
   ]
  },
  {
   "cell_type": "code",
   "execution_count": 3,
   "id": "1c16a2ee",
   "metadata": {},
   "outputs": [],
   "source": [
    "data[data==np.inf]=np.nan"
   ]
  },
  {
   "cell_type": "code",
   "execution_count": 4,
   "id": "c12e245e",
   "metadata": {},
   "outputs": [],
   "source": [
    "data[\"ext SN\"]=data[\"ext SN\"].fillna(\"non\")"
   ]
  },
  {
   "cell_type": "code",
   "execution_count": 5,
   "id": "9b7f7281",
   "metadata": {},
   "outputs": [],
   "source": [
    "data.loc[data[\"ext SN\"]==\"oui\",'ext SN']=1\n",
    "data.loc[data[\"ext SN\"]==\"non\",'ext SN']=2"
   ]
  },
  {
   "cell_type": "code",
   "execution_count": 6,
   "id": "e25bc529",
   "metadata": {},
   "outputs": [
    {
     "data": {
      "text/plain": [
       "ext SN\n",
       "2    116\n",
       "1      4\n",
       "Name: count, dtype: int64"
      ]
     },
     "execution_count": 6,
     "metadata": {},
     "output_type": "execute_result"
    }
   ],
   "source": [
    "data[\"ext SN\"].value_counts()"
   ]
  },
  {
   "cell_type": "code",
   "execution_count": 7,
   "id": "a58281b2",
   "metadata": {},
   "outputs": [],
   "source": [
    "data['ext SN']= data['ext SN'].astype('int')"
   ]
  },
  {
   "cell_type": "code",
   "execution_count": 8,
   "id": "6f06abe0",
   "metadata": {},
   "outputs": [
    {
     "data": {
      "text/plain": [
       "socio-eco\n",
       "normal       111\n",
       "précaire       6\n",
       "résidence      2\n",
       "deficient      1\n",
       "Name: count, dtype: int64"
      ]
     },
     "execution_count": 8,
     "metadata": {},
     "output_type": "execute_result"
    }
   ],
   "source": [
    "data[\"socio-eco\"].value_counts()"
   ]
  },
  {
   "cell_type": "code",
   "execution_count": 9,
   "id": "be41c087",
   "metadata": {},
   "outputs": [],
   "source": [
    "data.loc[data[\"socio-eco\"]==\"normal\",'socio-eco']=1\n",
    "data.loc[data[\"socio-eco\"]==\"précaire\",'socio-eco']=2\n",
    "data.loc[data[\"socio-eco\"]==\"précaire \",'socio-eco']=2\n",
    "data.loc[data[\"socio-eco\"]==\"résidence\",'socio-eco']=3\n",
    "data.loc[data[\"socio-eco\"]==\"deficient\",'socio-eco']=2"
   ]
  },
  {
   "cell_type": "code",
   "execution_count": 10,
   "id": "bfcfb444",
   "metadata": {},
   "outputs": [],
   "source": [
    "data[\"socio-eco\"]= data[\"socio-eco\"].astype('int')"
   ]
  },
  {
   "cell_type": "code",
   "execution_count": 11,
   "id": "0919da8c",
   "metadata": {},
   "outputs": [
    {
     "data": {
      "text/plain": [
       "EBV\n",
       "non    117\n",
       "pos      3\n",
       "Name: count, dtype: int64"
      ]
     },
     "execution_count": 11,
     "metadata": {},
     "output_type": "execute_result"
    }
   ],
   "source": [
    "data[\"EBV\"].value_counts()"
   ]
  },
  {
   "cell_type": "code",
   "execution_count": 12,
   "id": "de28dfd8",
   "metadata": {},
   "outputs": [],
   "source": [
    "data.loc[data[\"EBV\"]==\"non\",'EBV']=1\n",
    "data.loc[data[\"EBV\"]==\"pos\",'EBV']=2"
   ]
  },
  {
   "cell_type": "code",
   "execution_count": 13,
   "id": "300b3666",
   "metadata": {},
   "outputs": [],
   "source": [
    "data[\"EBV\"]=data[\"EBV\"].fillna(1)"
   ]
  },
  {
   "cell_type": "code",
   "execution_count": 14,
   "id": "85a9f2a7",
   "metadata": {},
   "outputs": [],
   "source": [
    "data[\"EBV\"]= data[\"EBV\"].astype('int')"
   ]
  },
  {
   "cell_type": "code",
   "execution_count": 15,
   "id": "45f80e78",
   "metadata": {},
   "outputs": [],
   "source": [
    "data.loc[data[\"infection CMV\"]==\"oui\",'infection CMV']=1\n",
    "data.loc[data[\"infection CMV\"]==\"non\",'infection CMV']=2\n",
    "data.loc[data[\"infection CMV\"]==\"oui \",'infection CMV']=1"
   ]
  },
  {
   "cell_type": "code",
   "execution_count": 16,
   "id": "db462cf0",
   "metadata": {},
   "outputs": [],
   "source": [
    "data[\"infection CMV\"]= data[\"infection CMV\"].astype('int')"
   ]
  },
  {
   "cell_type": "code",
   "execution_count": 17,
   "id": "4f526eba",
   "metadata": {},
   "outputs": [
    {
     "data": {
      "text/plain": [
       "Ttt_un\n",
       "R-CHOP              64\n",
       "R-mini-CHOP         14\n",
       "R-ACVBP              7\n",
       "R-CEOP               5\n",
       "R-MPVA               4\n",
       "COP                  4\n",
       "R-DAEPOCH            3\n",
       "R-CVP                2\n",
       "R-GEMOX              2\n",
       "R_DAOX               1\n",
       "DHAP                 1\n",
       "endoxan-steroide     1\n",
       "CHOEP                1\n",
       "VCR                  1\n",
       "R-IFO-VP16           1\n",
       "R-DA-EPOCH           1\n",
       "R-COP                1\n",
       "R-CHOEP              1\n",
       "EPOCH                1\n",
       "R-CTOP               1\n",
       "R-leukeran           1\n",
       "OP                   1\n",
       "CHOP                 1\n",
       "R-DAOX               1\n",
       "Name: count, dtype: int64"
      ]
     },
     "execution_count": 17,
     "metadata": {},
     "output_type": "execute_result"
    }
   ],
   "source": [
    "data[\"Ttt_un\"].value_counts()"
   ]
  },
  {
   "cell_type": "code",
   "execution_count": 18,
   "id": "fa0cf1d3",
   "metadata": {},
   "outputs": [],
   "source": [
    "data.loc[data[\"Ttt_un\"]==\"R-CHOP\",'Ttt_un']=1\n",
    "data.loc[data[\"Ttt_un\"]==\"R-mini-CHOP\",'Ttt_un']=2\n",
    "data.loc[data[\"Ttt_un\"]==\"R-MPVA\",'Ttt_un']=3\n",
    "data.loc[data[\"Ttt_un\"]==\"R-ACVBP\",'Ttt_un']=4\n",
    "data.loc[data[\"Ttt_un\"]==\"EPOCH\",'Ttt_un']=5\n",
    "data.loc[data[\"Ttt_un\"]==\"R-IFO-VP16\",'Ttt_un']=6"
   ]
  },
  {
   "cell_type": "code",
   "execution_count": 19,
   "id": "6d1cc6ca",
   "metadata": {},
   "outputs": [],
   "source": [
    "data.loc[data[\"Ttt_un\"]==\"R-CEOP\",'Ttt_un']=1\n",
    "data.loc[data[\"Ttt_un\"]==\"R-DAEPOCH\",'Ttt_un']=5\n",
    "data.loc[data[\"Ttt_un\"]==\"EPOCH\",'Ttt_un']=5\n",
    "data.loc[data[\"Ttt_un\"]==\"R-GEMOX\",'Ttt_un']=1\n",
    "data.loc[data[\"Ttt_un\"]==\"R-DA-EPOCH\",'Ttt_un']=5\n",
    "data.loc[data[\"Ttt_un\"]==\"R-CVP\",'Ttt_un']=1\n",
    "data.loc[data[\"Ttt_un\"]==\"R-leukeran\",'Ttt_un']=1\n",
    "data.loc[data[\"Ttt_un\"]==\"CHOEP\",'Ttt_un']=1\n",
    "data.loc[data[\"Ttt_un\"]==\"R_DAOX\",'Ttt_un']=1\n",
    "data.loc[data[\"Ttt_un\"]==\"COP\",'Ttt_un']=1\n",
    "data.loc[data[\"Ttt_un\"]==\"R-COP\",'Ttt_un']=1\n",
    "data.loc[data[\"Ttt_un\"]==\"endoxan-steroide\",'Ttt_un']=1\n",
    "data.loc[data[\"Ttt_un\"]==27,'Ttt_un']=7\n",
    "data.loc[data[\"Ttt_un\"]==\"VCR\",'Ttt_un']=1\n",
    "data.loc[data[\"Ttt_un\"]==\"R-IFO-VP16\",'Ttt_un']=6\n",
    "data.loc[data[\"Ttt_un\"]==\"mini-CHOP\",'Ttt_un']=2\n",
    "data.loc[data[\"Ttt_un\"]==\"R-CHOEP\",'Ttt_un']=1\n",
    "data.loc[data[\"Ttt_un\"]==\"R-CTOP\",'Ttt_un']=1\n",
    "data.loc[data[\"Ttt_un\"]==\"OP\",'Ttt_un']=1\n",
    "data.loc[data[\"Ttt_un\"]==\"CHOP\",'Ttt_un']=1\n",
    "data.loc[data[\"Ttt_un\"]==\"DHAP\",'Ttt_un']=1\n",
    "data.loc[data[\"Ttt_un\"]==\"DHAP\",'Ttt_un']=1"
   ]
  },
  {
   "cell_type": "code",
   "execution_count": 20,
   "id": "4bd4cf24",
   "metadata": {},
   "outputs": [],
   "source": [
    "data.loc[data[\"Ttt_un\"]==\"R-DAOX\",'Ttt_un']=1"
   ]
  },
  {
   "cell_type": "code",
   "execution_count": 21,
   "id": "754bac7f",
   "metadata": {},
   "outputs": [],
   "source": [
    "data.loc[data[\"Ttt_un\"]==\"DHAP\",'Ttt_un']=7"
   ]
  },
  {
   "cell_type": "code",
   "execution_count": 22,
   "id": "da9db1bb",
   "metadata": {},
   "outputs": [],
   "source": [
    "data['Ttt_un']= data['Ttt_un'].astype('int')"
   ]
  },
  {
   "cell_type": "code",
   "execution_count": 23,
   "id": "21410c49",
   "metadata": {},
   "outputs": [],
   "source": [
    "#data[\"Ttt_un\"].value_counts()"
   ]
  },
  {
   "cell_type": "code",
   "execution_count": 24,
   "id": "371a69d7",
   "metadata": {},
   "outputs": [
    {
     "data": {
      "text/plain": [
       "genre \n",
       "homme     64\n",
       "femme     52\n",
       "femme      4\n",
       "Name: count, dtype: int64"
      ]
     },
     "execution_count": 24,
     "metadata": {},
     "output_type": "execute_result"
    }
   ],
   "source": [
    "data[\"genre \"].value_counts()"
   ]
  },
  {
   "cell_type": "code",
   "execution_count": 25,
   "id": "5f556a3a",
   "metadata": {},
   "outputs": [],
   "source": [
    "data.loc[data[\"genre \"]==\"femme \",'genre ']=\"femme\""
   ]
  },
  {
   "cell_type": "code",
   "execution_count": 26,
   "id": "598ed781",
   "metadata": {},
   "outputs": [],
   "source": [
    "data.loc[data[\"genre \"]==\"femme\",'genre ']=1\n",
    "#data.loc[data[\"genre \"]==\"femme \",'genre ']=\"femme\"\n",
    "data.loc[data[\"genre \"]==\"homme\",'genre ']=2"
   ]
  },
  {
   "cell_type": "code",
   "execution_count": 27,
   "id": "ca145244",
   "metadata": {},
   "outputs": [],
   "source": [
    "#second.columns"
   ]
  },
  {
   "cell_type": "code",
   "execution_count": 28,
   "id": "ae9aa7e9",
   "metadata": {},
   "outputs": [],
   "source": [
    "data['genre ']= data['genre '].astype('int')"
   ]
  },
  {
   "cell_type": "code",
   "execution_count": 29,
   "id": "3eddedd5",
   "metadata": {},
   "outputs": [
    {
     "data": {
      "text/plain": [
       "service adresseur \n",
       "medecin traitant        25\n",
       "hemato                  16\n",
       "HGE                     16\n",
       "oncologie                9\n",
       "pneumo                   6\n",
       "gériatrie                5\n",
       "chirurgie digestive      4\n",
       "medecine interne         4\n",
       "urologie                 4\n",
       "urgences                 3\n",
       "ORL intra                3\n",
       "indéterminé              3\n",
       "gyneco                   2\n",
       "rhumatologie             2\n",
       "Chirurgie maxillaire     2\n",
       "cardiologie              2\n",
       "endocrino                2\n",
       "gosselies                2\n",
       "ORL extra                2\n",
       "orthopedie               1\n",
       "Espagne                  1\n",
       "nephrologie              1\n",
       "ortho                    1\n",
       "Gosselies                1\n",
       "geriatrie                1\n",
       "neurologie               1\n",
       "CHU                      1\n",
       "Name: count, dtype: int64"
      ]
     },
     "execution_count": 29,
     "metadata": {},
     "output_type": "execute_result"
    }
   ],
   "source": [
    "data[\"service adresseur \"].value_counts()"
   ]
  },
  {
   "cell_type": "code",
   "execution_count": 30,
   "id": "860fcb87",
   "metadata": {},
   "outputs": [
    {
     "data": {
      "text/plain": [
       "service adresseur \n",
       "medecin traitant        25\n",
       "hemato                  16\n",
       "HGE                     16\n",
       "oncologie                9\n",
       "pneumo                   6\n",
       "gériatrie                5\n",
       "chirurgie digestive      4\n",
       "medecine interne         4\n",
       "urologie                 4\n",
       "urgences                 3\n",
       "ORL intra                3\n",
       "indéterminé              3\n",
       "gyneco                   2\n",
       "rhumatologie             2\n",
       "Chirurgie maxillaire     2\n",
       "cardiologie              2\n",
       "endocrino                2\n",
       "gosselies                2\n",
       "ORL extra                2\n",
       "orthopedie               1\n",
       "Espagne                  1\n",
       "nephrologie              1\n",
       "ortho                    1\n",
       "Gosselies                1\n",
       "geriatrie                1\n",
       "neurologie               1\n",
       "CHU                      1\n",
       "Name: count, dtype: int64"
      ]
     },
     "execution_count": 30,
     "metadata": {},
     "output_type": "execute_result"
    }
   ],
   "source": [
    "data[\"service adresseur \"].value_counts()"
   ]
  },
  {
   "cell_type": "code",
   "execution_count": 31,
   "id": "d28ffe98",
   "metadata": {},
   "outputs": [],
   "source": [
    "data.loc[data[\"service adresseur \"]==\"chirugie\",'service adresseur ']=\"chirurgie\""
   ]
  },
  {
   "cell_type": "code",
   "execution_count": 32,
   "id": "8f5dcecd",
   "metadata": {},
   "outputs": [],
   "source": [
    "data.loc[data[\"service adresseur \"]==\"MT\",'service adresseur ']=1\n",
    "data.loc[data[\"service adresseur \"]==\"medecine\",'service adresseur ']=2\n",
    "data.loc[data[\"service adresseur \"]==\"chirurgie\",'service adresseur ']=3\n",
    "data.loc[data[\"service adresseur \"]==\"gyneco\",'service adresseur ']=4"
   ]
  },
  {
   "cell_type": "code",
   "execution_count": 33,
   "id": "25efdd37",
   "metadata": {},
   "outputs": [],
   "source": [
    "data.loc[data[\"service adresseur \"]==\"medecin traitant\",'service adresseur ']=1\n",
    "data.loc[data[\"service adresseur \"]==\"HGE\",'service adresseur ']=2\n",
    "data.loc[data[\"service adresseur \"]==\"pneumo\",'service adresseur ']=2\n",
    "data.loc[data[\"service adresseur \"]==\"oncologie\",'service adresseur ']=2\n",
    "data.loc[data[\"service adresseur \"]==\"geriatrie\",'service adresseur ']=2\n",
    "data.loc[data[\"service adresseur \"]==\"gériatrie\",'service adresseur ']=2\n",
    "data.loc[data[\"service adresseur \"]==\"hemato\",'service adresseur ']=2\n",
    "data.loc[data[\"service adresseur \"]==\"urgences \",'service adresseur ']=2\n",
    "data.loc[data[\"service adresseur \"]==\"chirurgie digestive\",'service adresseur ']=3\n",
    "data.loc[data[\"service adresseur \"]==\"gosselies\",'service adresseur ']=2\n",
    "data.loc[data[\"service adresseur \"]==\"Gosselies\",'service adresseur ']=2\n",
    "data.loc[data[\"service adresseur \"]==\"ORL extra\",'service adresseur ']=3\n",
    "data.loc[data[\"service adresseur \"]==\"ORL intra\",'service adresseur ']=3\n",
    "data.loc[data[\"service adresseur \"]==\"nephrologie\",'service adresseur ']=2\n",
    "data.loc[data[\"service adresseur \"]==\"medecine interne\",'service adresseur ']=2\n",
    "data.loc[data[\"service adresseur \"]==\"gyneco\",'service adresseur ']=4\n",
    "data.loc[data[\"service adresseur \"]==\"Chirurgie maxillaire\",'service adresseur ']=3\n",
    "data.loc[data[\"service adresseur \"]==\"neurochirugie\",'service adresseur ']=3\n",
    "data.loc[data[\"service adresseur \"]==\"neurochirurgie\",'service adresseur ']=3\n",
    "data.loc[data[\"service adresseur \"]==\"Espagne\",'service adresseur ']=2\n",
    "data.loc[data[\"service adresseur \"]==\"urologie\",'service adresseur ']=3\n",
    "data.loc[data[\"service adresseur \"]==\"cardiologie\",'service adresseur ']=2\n",
    "data.loc[data[\"service adresseur \"]==\"indéterminé\",'service adresseur ']=2\n",
    "data.loc[data[\"service adresseur \"]==\"nephrologie\",'service adresseur ']=2\n",
    "data.loc[data[\"service adresseur \"]==\"endocrino\",'service adresseur ']=2\n",
    "data.loc[data[\"service adresseur \"]==\"rhumatologie\",'service adresseur ']=2\n",
    "data.loc[data[\"service adresseur \"]==\"ortho\",'service adresseur ']=3\n",
    "data.loc[data[\"service adresseur \"]==\"neurologie\",'service adresseur ']=2\n",
    "data.loc[data[\"service adresseur \"]==\"dermato\",'service adresseur ']=2\n",
    "data.loc[data[\"service adresseur \"]==\"orthopedie\",'service adresseur ']=3\n",
    "data.loc[data[\"service adresseur \"]==\"CHU\",'service adresseur ']=2"
   ]
  },
  {
   "cell_type": "code",
   "execution_count": 34,
   "id": "c4f07ad8",
   "metadata": {},
   "outputs": [],
   "source": [
    "data['service adresseur ']= data['service adresseur '].astype('int')"
   ]
  },
  {
   "cell_type": "code",
   "execution_count": 35,
   "id": "34979043",
   "metadata": {},
   "outputs": [
    {
     "data": {
      "text/plain": [
       "pheno  GC\n",
       "non    80\n",
       "oui    40\n",
       "Name: count, dtype: int64"
      ]
     },
     "execution_count": 35,
     "metadata": {},
     "output_type": "execute_result"
    }
   ],
   "source": [
    "data[\"pheno  GC\"].value_counts()"
   ]
  },
  {
   "cell_type": "code",
   "execution_count": 36,
   "id": "40a3d002",
   "metadata": {},
   "outputs": [],
   "source": [
    "data.loc[data[\"pheno  GC\"]==\"non\",'pheno  GC']=1\n",
    "data.loc[data[\"pheno  GC\"]==\"oui\",'pheno  GC']=2\n",
    "#data.loc[data[\"pheno  GC\"]==\"nonap\",'pheno  GC']=3"
   ]
  },
  {
   "cell_type": "code",
   "execution_count": 37,
   "id": "03527f67",
   "metadata": {},
   "outputs": [],
   "source": [
    "data['pheno  GC']=data['pheno  GC'].fillna(1)"
   ]
  },
  {
   "cell_type": "code",
   "execution_count": 38,
   "id": "f6f3f6bf",
   "metadata": {},
   "outputs": [],
   "source": [
    "data['pheno  GC']= data['pheno  GC'].astype('int')"
   ]
  },
  {
   "cell_type": "code",
   "execution_count": 39,
   "id": "72db28a1",
   "metadata": {},
   "outputs": [
    {
     "data": {
      "text/plain": [
       "stade Ann Arbor \n",
       "quatre        72\n",
       "trois         17\n",
       "deux          17\n",
       "un            13\n",
       "non_evalue     1\n",
       "Name: count, dtype: int64"
      ]
     },
     "execution_count": 39,
     "metadata": {},
     "output_type": "execute_result"
    }
   ],
   "source": [
    "data[\"stade Ann Arbor \"].value_counts()"
   ]
  },
  {
   "cell_type": "code",
   "execution_count": 40,
   "id": "b2e6cbcb",
   "metadata": {},
   "outputs": [],
   "source": [
    "data.loc[data[\"stade Ann Arbor \"]==\"non_evalue\",'stade Ann Arbor ']=\"quatre\""
   ]
  },
  {
   "cell_type": "code",
   "execution_count": 41,
   "id": "7b716708",
   "metadata": {},
   "outputs": [],
   "source": [
    "data.loc[data[\"stade Ann Arbor \"]==\"un\",'stade Ann Arbor ']=1\n",
    "data.loc[data[\"stade Ann Arbor \"]==\"deux\",'stade Ann Arbor ']=2\n",
    "data.loc[data[\"stade Ann Arbor \"]==\"trois\",'stade Ann Arbor ']=3\n",
    "data.loc[data[\"stade Ann Arbor \"]==\"quatre\",'stade Ann Arbor ']=4\n",
    "#second.loc[second[\"stade Ann Arbor \"]==\"non_evalue\",'stade Ann Arbor ']=4"
   ]
  },
  {
   "cell_type": "code",
   "execution_count": 42,
   "id": "8b241853",
   "metadata": {},
   "outputs": [],
   "source": [
    "#data[\"stade Ann Arbor \"].value_counts()"
   ]
  },
  {
   "cell_type": "code",
   "execution_count": 43,
   "id": "8b1ff11f",
   "metadata": {},
   "outputs": [],
   "source": [
    "data['stade Ann Arbor ']= data['stade Ann Arbor '].astype('int')"
   ]
  },
  {
   "cell_type": "code",
   "execution_count": 44,
   "id": "941b4682",
   "metadata": {},
   "outputs": [
    {
     "data": {
      "text/plain": [
       "tabac \n",
       "non    83\n",
       "oui    37\n",
       "Name: count, dtype: int64"
      ]
     },
     "execution_count": 44,
     "metadata": {},
     "output_type": "execute_result"
    }
   ],
   "source": [
    "data[\"tabac \"].value_counts()"
   ]
  },
  {
   "cell_type": "code",
   "execution_count": 45,
   "id": "ef65d688",
   "metadata": {},
   "outputs": [],
   "source": [
    "data.loc[data[\"tabac \"]==\"oui\",'tabac ']=1\n",
    "data.loc[data[\"tabac \"]==\"non\",'tabac ']=2"
   ]
  },
  {
   "cell_type": "code",
   "execution_count": 46,
   "id": "6c78db1b",
   "metadata": {},
   "outputs": [],
   "source": [
    "data['tabac ']= data['tabac '].astype('int')"
   ]
  },
  {
   "cell_type": "code",
   "execution_count": 47,
   "id": "98f2b1e8",
   "metadata": {},
   "outputs": [],
   "source": [
    "#data[\"tabac \"].value_counts()"
   ]
  },
  {
   "cell_type": "code",
   "execution_count": 48,
   "id": "b9712f68",
   "metadata": {},
   "outputs": [
    {
     "data": {
      "text/plain": [
       "alcool\n",
       "non    105\n",
       "oui     15\n",
       "Name: count, dtype: int64"
      ]
     },
     "execution_count": 48,
     "metadata": {},
     "output_type": "execute_result"
    }
   ],
   "source": [
    "data[\"alcool\"].value_counts()"
   ]
  },
  {
   "cell_type": "code",
   "execution_count": 49,
   "id": "f623abf3",
   "metadata": {},
   "outputs": [],
   "source": [
    "data.loc[data[\"alcool\"]==\"oui\",'alcool']=1\n",
    "data.loc[data[\"alcool\"]==\"non\",'alcool']=2"
   ]
  },
  {
   "cell_type": "code",
   "execution_count": 50,
   "id": "b3978512",
   "metadata": {},
   "outputs": [],
   "source": [
    "data['alcool']= data['alcool'].astype('int')"
   ]
  },
  {
   "cell_type": "code",
   "execution_count": 51,
   "id": "fe2c6040",
   "metadata": {
    "scrolled": true
   },
   "outputs": [
    {
     "data": {
      "text/plain": [
       "IPI\n",
       "un        38\n",
       "quatre    27\n",
       "trois     25\n",
       "deux      17\n",
       "cinq      10\n",
       "zero       3\n",
       "Name: count, dtype: int64"
      ]
     },
     "execution_count": 51,
     "metadata": {},
     "output_type": "execute_result"
    }
   ],
   "source": [
    "data[\"IPI\"].value_counts()"
   ]
  },
  {
   "cell_type": "code",
   "execution_count": 52,
   "id": "1c7fdb68",
   "metadata": {},
   "outputs": [],
   "source": [
    "data.loc[data[\"IPI\"]==\"cinq \",'IPI']=5"
   ]
  },
  {
   "cell_type": "code",
   "execution_count": 53,
   "id": "c16bc288",
   "metadata": {},
   "outputs": [],
   "source": [
    "data.loc[data[\"IPI\"]==\"un\",'IPI']=1\n",
    "data.loc[data[\"IPI\"]==\"deux\",'IPI']=2\n",
    "data.loc[data[\"IPI\"]==\"deux \",'IPI']=2\n",
    "data.loc[data[\"IPI\"]==\"trois\",'IPI']=3\n",
    "data.loc[data[\"IPI\"]==\"quatre\",'IPI']=4\n",
    "data.loc[data[\"IPI\"]==\"cinq\",'IPI']=5\n",
    "#data.loc[data[\"IPI\"]==\"nonap\",'IPI']=6\n",
    "#data.loc[data[\"IPI\"]==\"Mantle_six\",'IPI']=7\n",
    "#data.loc[data[\"IPI\"]==\"Mantle_trois\",'IPI']=8\n",
    "data.loc[data[\"IPI\"]==\"zero\",'IPI']=1"
   ]
  },
  {
   "cell_type": "code",
   "execution_count": 54,
   "id": "306594a8",
   "metadata": {},
   "outputs": [],
   "source": [
    "data['IPI']= data['IPI'].astype('int')"
   ]
  },
  {
   "cell_type": "code",
   "execution_count": 55,
   "id": "16f038a9",
   "metadata": {},
   "outputs": [],
   "source": [
    "data['délai entre services (jours)']=data['délai entre services (jours)'].fillna(17.5)"
   ]
  },
  {
   "cell_type": "code",
   "execution_count": 56,
   "id": "a3b20a4c",
   "metadata": {},
   "outputs": [],
   "source": [
    "data['délai diag Ttt (jours)']= data['délai diag Ttt (jours)'].fillna(6)"
   ]
  },
  {
   "cell_type": "code",
   "execution_count": 57,
   "id": "72fc800a",
   "metadata": {},
   "outputs": [],
   "source": [
    "data['bmi']=data['bmi'].astype('float')"
   ]
  },
  {
   "cell_type": "code",
   "execution_count": 58,
   "id": "b44898ac",
   "metadata": {},
   "outputs": [
    {
     "data": {
      "text/plain": [
       "COVID\n",
       "inexistant    58\n",
       "non           47\n",
       "oui           15\n",
       "Name: count, dtype: int64"
      ]
     },
     "execution_count": 58,
     "metadata": {},
     "output_type": "execute_result"
    }
   ],
   "source": [
    "data[\"COVID\"].value_counts()"
   ]
  },
  {
   "cell_type": "code",
   "execution_count": 59,
   "id": "5cb98f20",
   "metadata": {},
   "outputs": [],
   "source": [
    "data.loc[data[\"COVID\"]==\"non\",'COVID']=2\n",
    "data.loc[data[\"COVID\"]==\"oui\",'COVID']=1\n",
    "data.loc[data[\"COVID\"]==\"oui \",'COVID']=1\n",
    "data.loc[data[\"COVID\"]==\"inexistant\",'COVID']=3"
   ]
  },
  {
   "cell_type": "code",
   "execution_count": 60,
   "id": "8f9f5c11",
   "metadata": {},
   "outputs": [
    {
     "data": {
      "text/plain": [
       "TEP 2 cures \n",
       "nonap          52\n",
       "non_fait       29\n",
       "remission      16\n",
       "RMP            13\n",
       "refractaire    10\n",
       "Name: count, dtype: int64"
      ]
     },
     "execution_count": 60,
     "metadata": {},
     "output_type": "execute_result"
    }
   ],
   "source": [
    "data[\"TEP 2 cures \"].value_counts()"
   ]
  },
  {
   "cell_type": "code",
   "execution_count": 61,
   "id": "a498df8e",
   "metadata": {},
   "outputs": [],
   "source": [
    "data.loc[data[\"TEP 2 cures \"]==\"nonap\",'TEP 2 cures ']=1\n",
    "data.loc[data[\"TEP 2 cures \"]==\"non_fait\",'TEP 2 cures ']=2\n",
    "data.loc[data[\"TEP 2 cures \"]==\"remission\",'TEP 2 cures ']=3\n",
    "data.loc[data[\"TEP 2 cures \"]==\"RMP\",'TEP 2 cures ']=4\n",
    "data.loc[data[\"TEP 2 cures \"]==\"refractaire\",'TEP 2 cures ']=5\n",
    "data.loc[data[\"TEP 2 cures \"]==\"réfractaire\",'TEP 2 cures ']=5"
   ]
  },
  {
   "cell_type": "code",
   "execution_count": 62,
   "id": "2d3f9573",
   "metadata": {},
   "outputs": [],
   "source": [
    "data['TEP 2 cures ']= data['TEP 2 cures '].astype('int')"
   ]
  },
  {
   "cell_type": "code",
   "execution_count": 63,
   "id": "7d95a91d",
   "metadata": {},
   "outputs": [
    {
     "data": {
      "text/plain": [
       "CoM\n",
       "oui    62\n",
       "non    58\n",
       "Name: count, dtype: int64"
      ]
     },
     "execution_count": 63,
     "metadata": {},
     "output_type": "execute_result"
    }
   ],
   "source": [
    "data[\"CoM\"].value_counts()"
   ]
  },
  {
   "cell_type": "code",
   "execution_count": 64,
   "id": "907b02ed",
   "metadata": {},
   "outputs": [],
   "source": [
    "data.loc[data[\"CoM\"]==\"non\",'CoM']=1\n",
    "data.loc[data[\"CoM\"]==\"oui\",'CoM']=2"
   ]
  },
  {
   "cell_type": "code",
   "execution_count": 65,
   "id": "c177a957",
   "metadata": {},
   "outputs": [],
   "source": [
    "data['CoM']= data['CoM'].astype('int')"
   ]
  },
  {
   "cell_type": "code",
   "execution_count": 66,
   "id": "31147180",
   "metadata": {},
   "outputs": [],
   "source": [
    "data.loc[data[\"surpoids\"]==\"oui\",'surpoids']=1\n",
    "data.loc[data[\"surpoids\"]==\"non\",'surpoids']=2"
   ]
  },
  {
   "cell_type": "code",
   "execution_count": 67,
   "id": "914c85b5",
   "metadata": {},
   "outputs": [],
   "source": [
    "data['surpoids']= data['surpoids'].astype('int')"
   ]
  },
  {
   "cell_type": "code",
   "execution_count": 68,
   "id": "69d150ca",
   "metadata": {},
   "outputs": [],
   "source": [
    "data.loc[data[\"BMI_30_à_35\"]==\"oui\",'BMI_30_à_35']=1\n",
    "data.loc[data[\"BMI_30_à_35\"]==\"non\",'BMI_30_à_35']=2"
   ]
  },
  {
   "cell_type": "code",
   "execution_count": 69,
   "id": "e9b6c3b6",
   "metadata": {},
   "outputs": [],
   "source": [
    "data['BMI_30_à_35']= data['BMI_30_à_35'].astype('int')"
   ]
  },
  {
   "cell_type": "code",
   "execution_count": 70,
   "id": "f3c1c77a",
   "metadata": {},
   "outputs": [],
   "source": [
    "#data[\"BMI_35_à_40\"].value_counts()"
   ]
  },
  {
   "cell_type": "code",
   "execution_count": 71,
   "id": "55bac2ce",
   "metadata": {},
   "outputs": [],
   "source": [
    "data.loc[data[\"BMI_35_à_40\"]==\"oui\",'BMI_35_à_40']=1\n",
    "data.loc[data[\"BMI_35_à_40\"]==\"non\",'BMI_35_à_40']=2"
   ]
  },
  {
   "cell_type": "code",
   "execution_count": 72,
   "id": "d4ae5d0b",
   "metadata": {},
   "outputs": [],
   "source": [
    "data['BMI_35_à_40']= data['BMI_35_à_40'].astype('int')"
   ]
  },
  {
   "cell_type": "code",
   "execution_count": 73,
   "id": "6427e4ed",
   "metadata": {},
   "outputs": [],
   "source": [
    "#data[\"BMI_sup_40\"].value_counts()"
   ]
  },
  {
   "cell_type": "code",
   "execution_count": 74,
   "id": "921a8b49",
   "metadata": {},
   "outputs": [],
   "source": [
    "data.loc[data[\"BMI_sup_40\"]==\"oui\",'BMI_sup_40']=1\n",
    "data.loc[data[\"BMI_sup_40\"]==\"non\",'BMI_sup_40']=2"
   ]
  },
  {
   "cell_type": "code",
   "execution_count": 75,
   "id": "4be1347b",
   "metadata": {},
   "outputs": [],
   "source": [
    "data['BMI_sup_40']= data['BMI_sup_40'].astype('int')"
   ]
  },
  {
   "cell_type": "code",
   "execution_count": 76,
   "id": "2c3ff14b",
   "metadata": {},
   "outputs": [],
   "source": [
    "#data[\"double hit\"].value_counts()"
   ]
  },
  {
   "cell_type": "code",
   "execution_count": 77,
   "id": "cd529bb8",
   "metadata": {},
   "outputs": [],
   "source": [
    "data.loc[data[\"double hit\"]==\"oui\",'double hit']=1\n",
    "data.loc[data[\"double hit\"]==\"non\",'double hit']=2"
   ]
  },
  {
   "cell_type": "code",
   "execution_count": 78,
   "id": "17728fd5",
   "metadata": {},
   "outputs": [],
   "source": [
    "data['double hit']= data['double hit'].astype('int')"
   ]
  },
  {
   "cell_type": "code",
   "execution_count": 79,
   "id": "4d87ad9e",
   "metadata": {},
   "outputs": [],
   "source": [
    "#data[\"triple hit\"].value_counts()"
   ]
  },
  {
   "cell_type": "code",
   "execution_count": 80,
   "id": "8c1e9af6",
   "metadata": {},
   "outputs": [],
   "source": [
    "data.loc[data[\"triple hit\"]==\"oui\",'triple hit']=1\n",
    "data.loc[data[\"triple hit\"]==\"non\",'triple hit']=2"
   ]
  },
  {
   "cell_type": "code",
   "execution_count": 81,
   "id": "25a8f782",
   "metadata": {},
   "outputs": [],
   "source": [
    "data['triple hit']= data['triple hit'].astype('int')"
   ]
  },
  {
   "cell_type": "code",
   "execution_count": 82,
   "id": "a186f910",
   "metadata": {},
   "outputs": [
    {
     "data": {
      "text/plain": [
       "genre                             int32\n",
       "age                             float64\n",
       "service adresseur                 int32\n",
       "délai entre services (jours)    float64\n",
       "délai diag Ttt (jours)          float64\n",
       "Ttt_un                            int32\n",
       "reponse_ligne_un                  int64\n",
       "pheno  GC                         int32\n",
       "stade Ann Arbor                   int32\n",
       "tabac                             int32\n",
       "alcool                            int32\n",
       "EBV                               int32\n",
       "socio-eco                         int32\n",
       "double hit                        int32\n",
       "triple hit                        int32\n",
       "IPI                               int32\n",
       "ext SN                            int32\n",
       "COVID                            object\n",
       "TEP 2 cures                       int32\n",
       "infection CMV                     int32\n",
       "CoM                               int32\n",
       "cat_age_un                        int64\n",
       "cat_age_deux                      int64\n",
       "cat_age_trois                     int64\n",
       "cat_age_quatre                    int64\n",
       "surpoids                          int32\n",
       "BMI_30_à_35                       int32\n",
       "BMI_35_à_40                       int32\n",
       "BMI_sup_40                        int32\n",
       "bmi                             float64\n",
       "dtype: object"
      ]
     },
     "execution_count": 82,
     "metadata": {},
     "output_type": "execute_result"
    }
   ],
   "source": [
    "data.dtypes"
   ]
  },
  {
   "cell_type": "code",
   "execution_count": 83,
   "id": "91a5b8ae",
   "metadata": {},
   "outputs": [],
   "source": [
    "data['cat_age_un']= data['cat_age_un'].astype('int')"
   ]
  },
  {
   "cell_type": "code",
   "execution_count": 84,
   "id": "ea2432b1",
   "metadata": {},
   "outputs": [
    {
     "data": {
      "text/plain": [
       "COVID\n",
       "3    58\n",
       "2    47\n",
       "1    15\n",
       "Name: count, dtype: int64"
      ]
     },
     "execution_count": 84,
     "metadata": {},
     "output_type": "execute_result"
    }
   ],
   "source": [
    "data['COVID'].value_counts()"
   ]
  },
  {
   "cell_type": "code",
   "execution_count": 85,
   "id": "0f263706",
   "metadata": {},
   "outputs": [],
   "source": [
    "data['COVID']= data['COVID'].astype('int')"
   ]
  },
  {
   "cell_type": "code",
   "execution_count": 86,
   "id": "62c4db8b",
   "metadata": {},
   "outputs": [],
   "source": [
    "data['cat_age_deux']= data['cat_age_deux'].astype('int')"
   ]
  },
  {
   "cell_type": "code",
   "execution_count": 87,
   "id": "30c545e4",
   "metadata": {},
   "outputs": [],
   "source": [
    "data['cat_age_trois']= data['cat_age_trois'].astype('int')"
   ]
  },
  {
   "cell_type": "code",
   "execution_count": 88,
   "id": "1f95c94c",
   "metadata": {},
   "outputs": [],
   "source": [
    "data['cat_age_quatre']= data['cat_age_quatre'].astype('int')"
   ]
  },
  {
   "cell_type": "markdown",
   "id": "87bd90b9",
   "metadata": {},
   "source": [
    "XGBoost"
   ]
  },
  {
   "cell_type": "code",
   "execution_count": 89,
   "id": "4ca488f0",
   "metadata": {},
   "outputs": [],
   "source": [
    "import xgboost as xgb\n",
    "from sklearn.model_selection import GridSearchCV\n",
    "from xgboost import XGBClassifier"
   ]
  },
  {
   "cell_type": "code",
   "execution_count": 90,
   "id": "c0017693",
   "metadata": {},
   "outputs": [],
   "source": [
    "X = data.drop(columns='reponse_ligne_un')\n",
    "y = data['reponse_ligne_un']"
   ]
  },
  {
   "cell_type": "code",
   "execution_count": 91,
   "id": "3e956404",
   "metadata": {},
   "outputs": [],
   "source": [
    "X_train, X_test, y_train, y_test = train_test_split(X, y, test_size=0.15,random_state=1)"
   ]
  },
  {
   "cell_type": "code",
   "execution_count": 92,
   "id": "5e9d692f",
   "metadata": {},
   "outputs": [
    {
     "name": "stdout",
     "output_type": "stream",
     "text": [
      "Fitting 10 folds for each of 108 candidates, totalling 1080 fits\n",
      "Best parameters found:  {'colsample_bytree': 0.8, 'learning_rate': 0.2, 'max_depth': 5, 'n_estimators': 50, 'subsample': 0.8}\n"
     ]
    }
   ],
   "source": [
    "# Créer un classifieur XGBoost\n",
    "xgb_model = xgb.XGBClassifier(eval_metric='mlogloss')\n",
    "\n",
    "# Définir les hyperparamètres à tester\n",
    "param_grid = {\n",
    "    'n_estimators': [50, 100, 200],\n",
    "    'max_depth': [3, 4, 5],\n",
    "    'learning_rate': [0.01, 0.1, 0.2],\n",
    "    'subsample': [0.8, 1.0],\n",
    "    'colsample_bytree': [0.8, 1.0]\n",
    "}\n",
    "\n",
    "# Créer l'objet GridSearchCV\n",
    "grid_search = GridSearchCV(estimator=xgb_model, param_grid=param_grid, \n",
    "                           scoring='recall', cv=10, verbose=1)\n",
    "\n",
    "# Entraîner le modèle avec GridSearchCV\n",
    "grid_search.fit(X_train, y_train)\n",
    "\n",
    "# Afficher les meilleurs paramètres\n",
    "print(\"Best parameters found: \", grid_search.best_params_)\n",
    "\n",
    "# Prédire les labels sur l'ensemble de test\n",
    "y_pred = grid_search.best_estimator_.predict(X_test)\n",
    "\n"
   ]
  },
  {
   "cell_type": "code",
   "execution_count": 93,
   "id": "b8b90027",
   "metadata": {},
   "outputs": [
    {
     "name": "stdout",
     "output_type": "stream",
     "text": [
      "Accuracy: 0.78\n"
     ]
    }
   ],
   "source": [
    "# Calculer et afficher l'accuracy\n",
    "accuracy = accuracy_score(y_test, y_pred)\n",
    "print(f\"Accuracy: {accuracy:.2f}\")"
   ]
  },
  {
   "cell_type": "code",
   "execution_count": 94,
   "id": "3caff314",
   "metadata": {},
   "outputs": [
    {
     "data": {
      "image/png": "[encoded data removed]",
      "text/plain": [
       "<Figure size 640x480 with 1 Axes>"
      ]
     },
     "metadata": {},
     "output_type": "display_data"
    }
   ],
   "source": [
    "fpr,tpr, _ =metrics.roc_curve(y_test,y_pred)\n",
    "auc=metrics.roc_auc_score(y_test,y_pred)\n",
    "plt.plot(fpr,tpr, label=\"Roc_curve for XGBoost, auc=\" +str(auc))\n",
    "plt.legend()\n",
    "plt.show()"
   ]
  },
  {
   "cell_type": "code",
   "execution_count": 95,
   "id": "b139f88b",
   "metadata": {},
   "outputs": [
    {
     "name": "stdout",
     "output_type": "stream",
     "text": [
      "              precision    recall  f1-score   support\n",
      "\n",
      "           0       0.77      0.91      0.83        11\n",
      "           1       0.80      0.57      0.67         7\n",
      "\n",
      "    accuracy                           0.78        18\n",
      "   macro avg       0.78      0.74      0.75        18\n",
      "weighted avg       0.78      0.78      0.77        18\n",
      "\n"
     ]
    },
    {
     "data": {
      "image/png": "[encoded data removed]",
      "text/plain": [
       "<Figure size 1200x500 with 1 Axes>"
      ]
     },
     "metadata": {},
     "output_type": "display_data"
    }
   ],
   "source": [
    "print(classification_report(y_test, y_pred))\n",
    "cm = confusion_matrix(y_test, y_pred)\n",
    "plt.figure(figsize=(12, 5))\n",
    "sns.heatmap(cm, annot=True, cbar=False, cmap='Blues')\n",
    "plt.xlabel('y_pred')\n",
    "plt.ylabel('y_test')\n",
    "plt.show()"
   ]
  },
  {
   "cell_type": "code",
   "execution_count": 98,
   "id": "64356493",
   "metadata": {},
   "outputs": [],
   "source": [
    "import sklearn.metrics"
   ]
  },
  {
   "cell_type": "code",
   "execution_count": 99,
   "id": "0e2bb18a",
   "metadata": {},
   "outputs": [
    {
     "data": {
      "text/plain": [
       "0.75"
      ]
     },
     "execution_count": 99,
     "metadata": {},
     "output_type": "execute_result"
    }
   ],
   "source": [
    "sklearn.metrics.f1_score(y_test, y_pred, average=\"macro\")"
   ]
  },
  {
   "cell_type": "markdown",
   "id": "0302093b",
   "metadata": {},
   "source": [
    "SVM "
   ]
  },
  {
   "cell_type": "code",
   "execution_count": 100,
   "id": "ee37c5e2",
   "metadata": {},
   "outputs": [],
   "source": [
    "from sklearn.svm import NuSVC"
   ]
  },
  {
   "cell_type": "code",
   "execution_count": 101,
   "id": "08bce8b3",
   "metadata": {},
   "outputs": [],
   "source": [
    "X_train, X_test, y_train, y_test = train_test_split(X, y, test_size=0.15,random_state=1)"
   ]
  },
  {
   "cell_type": "code",
   "execution_count": 102,
   "id": "e470cd6b",
   "metadata": {},
   "outputs": [],
   "source": [
    "scaler = StandardScaler()\n",
    "X_train_scaled = scaler.fit_transform(X_train)"
   ]
  },
  {
   "cell_type": "code",
   "execution_count": 103,
   "id": "509958f6",
   "metadata": {},
   "outputs": [],
   "source": [
    "X_test_scaled = scaler.transform(X_test)"
   ]
  },
  {
   "cell_type": "code",
   "execution_count": 104,
   "id": "322e2cf1",
   "metadata": {},
   "outputs": [
    {
     "name": "stdout",
     "output_type": "stream",
     "text": [
      "Fitting 10 folds for each of 8 candidates, totalling 80 fits\n",
      "Best parameters found: {'gamma': 0.01, 'kernel': 'rbf'}\n"
     ]
    }
   ],
   "source": [
    "# Définir le modèle SVM\n",
    "svc = NuSVC()\n",
    "\n",
    "# Définir la grille des paramètres à rechercher\n",
    "param_grid = {\n",
    "    \n",
    "    'gamma': [1, 0.1, 0.01, 0.001],\n",
    "    'kernel': ['rbf', 'linear']\n",
    "}\n",
    "\n",
    "# Configurer le GridSearchCV avec une validation croisée de 10 fois\n",
    "grid_search = GridSearchCV(estimator=svc, param_grid=param_grid, cv=10, verbose=2, n_jobs=-1)\n",
    "\n",
    "# Exécuter la recherche sur la grille\n",
    "grid_search.fit(X_train_scaled, y_train)\n",
    "\n",
    "# Afficher les meilleurs paramètres trouvés par GridSearchCV\n",
    "print(f\"Best parameters found: {grid_search.best_params_}\")\n",
    "\n",
    "# Utiliser le meilleur modèle pour faire des prédictions sur l'ensemble de test\n",
    "best_model = grid_search.best_estimator_\n",
    "y_pred_deux = best_model.predict(X_test_scaled)"
   ]
  },
  {
   "cell_type": "code",
   "execution_count": 105,
   "id": "24b124aa",
   "metadata": {},
   "outputs": [
    {
     "name": "stdout",
     "output_type": "stream",
     "text": [
      "              precision    recall  f1-score   support\n",
      "\n",
      "           0       0.73      0.73      0.73        11\n",
      "           1       0.57      0.57      0.57         7\n",
      "\n",
      "    accuracy                           0.67        18\n",
      "   macro avg       0.65      0.65      0.65        18\n",
      "weighted avg       0.67      0.67      0.67        18\n",
      "\n"
     ]
    },
    {
     "data": {
      "image/png": "[encoded data removed]",
      "text/plain": [
       "<Figure size 1200x500 with 1 Axes>"
      ]
     },
     "metadata": {},
     "output_type": "display_data"
    }
   ],
   "source": [
    "print(classification_report(y_test, y_pred_deux))\n",
    "cm = confusion_matrix(y_test, y_pred_deux)\n",
    "plt.figure(figsize=(12, 5))\n",
    "sns.heatmap(cm, annot=True, cbar=False, cmap='Blues')\n",
    "plt.xlabel('y_pred')\n",
    "plt.ylabel('y_test')\n",
    "plt.show()"
   ]
  },
  {
   "cell_type": "code",
   "execution_count": 106,
   "id": "9ec8ed62",
   "metadata": {},
   "outputs": [
    {
     "data": {
      "image/png": "[encoded data removed]",
      "text/plain": [
       "<Figure size 640x480 with 1 Axes>"
      ]
     },
     "metadata": {},
     "output_type": "display_data"
    }
   ],
   "source": [
    "fpr,tpr, _ =metrics.roc_curve(y_test,y_pred_deux)\n",
    "auc=metrics.roc_auc_score(y_test,y_pred_deux)\n",
    "plt.plot(fpr,tpr, label=\"SVM: Roc_curve, auc=\" +str(auc))\n",
    "plt.legend()\n",
    "plt.show()"
   ]
  },
  {
   "cell_type": "code",
   "execution_count": 107,
   "id": "20182271",
   "metadata": {},
   "outputs": [],
   "source": [
    "import sklearn.metrics"
   ]
  },
  {
   "cell_type": "code",
   "execution_count": 108,
   "id": "f463d441",
   "metadata": {},
   "outputs": [
    {
     "data": {
      "text/plain": [
       "0.6493506493506493"
      ]
     },
     "execution_count": 108,
     "metadata": {},
     "output_type": "execute_result"
    }
   ],
   "source": [
    "sklearn.metrics.f1_score(y_test, y_pred_deux, average=\"macro\")"
   ]
  },
  {
   "cell_type": "code",
   "execution_count": null,
   "id": "c895a103",
   "metadata": {},
   "outputs": [],
   "source": [
    "Naive Bayes classifier"
   ]
  },
  {
   "cell_type": "code",
   "execution_count": 109,
   "id": "d9eb0a27",
   "metadata": {},
   "outputs": [],
   "source": [
    "from sklearn.pipeline import Pipeline"
   ]
  },
  {
   "cell_type": "code",
   "execution_count": 110,
   "id": "a6dd54b5",
   "metadata": {},
   "outputs": [],
   "source": [
    "from sklearn.naive_bayes import CategoricalNB"
   ]
  },
  {
   "cell_type": "code",
   "execution_count": 111,
   "id": "82ade531",
   "metadata": {},
   "outputs": [],
   "source": [
    "X_train, X_test, y_train, y_test = train_test_split(X, y, test_size=0.15, random_state=1)"
   ]
  },
  {
   "cell_type": "code",
   "execution_count": 112,
   "id": "ff250c03",
   "metadata": {},
   "outputs": [],
   "source": [
    "cat_nb = CategoricalNB()"
   ]
  },
  {
   "cell_type": "code",
   "execution_count": 113,
   "id": "102ee264",
   "metadata": {},
   "outputs": [
    {
     "data": {
      "text/html": [
       "<style>#sk-container-id-1 {color: black;background-color: white;}#sk-container-id-1 pre{padding: 0;}#sk-container-id-1 div.sk-toggleable {background-color: white;}#sk-container-id-1 label.sk-toggleable__label {cursor: pointer;display: block;width: 100%;margin-bottom: 0;padding: 0.3em;box-sizing: border-box;text-align: center;}#sk-container-id-1 label.sk-toggleable__label-arrow:before {content: \"▸\";float: left;margin-right: 0.25em;color: #696969;}#sk-container-id-1 label.sk-toggleable__label-arrow:hover:before {color: black;}#sk-container-id-1 div.sk-estimator:hover label.sk-toggleable__label-arrow:before {color: black;}#sk-container-id-1 div.sk-toggleable__content {max-height: 0;max-width: 0;overflow: hidden;text-align: left;background-color: #f0f8ff;}#sk-container-id-1 div.sk-toggleable__content pre {margin: 0.2em;color: black;border-radius: 0.25em;background-color: #f0f8ff;}#sk-container-id-1 input.sk-toggleable__control:checked~div.sk-toggleable__content {max-height: 200px;max-width: 100%;overflow: auto;}#sk-container-id-1 input.sk-toggleable__control:checked~label.sk-toggleable__label-arrow:before {content: \"▾\";}#sk-container-id-1 div.sk-estimator input.sk-toggleable__control:checked~label.sk-toggleable__label {background-color: #d4ebff;}#sk-container-id-1 div.sk-label input.sk-toggleable__control:checked~label.sk-toggleable__label {background-color: #d4ebff;}#sk-container-id-1 input.sk-hidden--visually {border: 0;clip: rect(1px 1px 1px 1px);clip: rect(1px, 1px, 1px, 1px);height: 1px;margin: -1px;overflow: hidden;padding: 0;position: absolute;width: 1px;}#sk-container-id-1 div.sk-estimator {font-family: monospace;background-color: #f0f8ff;border: 1px dotted black;border-radius: 0.25em;box-sizing: border-box;margin-bottom: 0.5em;}#sk-container-id-1 div.sk-estimator:hover {background-color: #d4ebff;}#sk-container-id-1 div.sk-parallel-item::after {content: \"\";width: 100%;border-bottom: 1px solid gray;flex-grow: 1;}#sk-container-id-1 div.sk-label:hover label.sk-toggleable__label {background-color: #d4ebff;}#sk-container-id-1 div.sk-serial::before {content: \"\";position: absolute;border-left: 1px solid gray;box-sizing: border-box;top: 0;bottom: 0;left: 50%;z-index: 0;}#sk-container-id-1 div.sk-serial {display: flex;flex-direction: column;align-items: center;background-color: white;padding-right: 0.2em;padding-left: 0.2em;position: relative;}#sk-container-id-1 div.sk-item {position: relative;z-index: 1;}#sk-container-id-1 div.sk-parallel {display: flex;align-items: stretch;justify-content: center;background-color: white;position: relative;}#sk-container-id-1 div.sk-item::before, #sk-container-id-1 div.sk-parallel-item::before {content: \"\";position: absolute;border-left: 1px solid gray;box-sizing: border-box;top: 0;bottom: 0;left: 50%;z-index: -1;}#sk-container-id-1 div.sk-parallel-item {display: flex;flex-direction: column;z-index: 1;position: relative;background-color: white;}#sk-container-id-1 div.sk-parallel-item:first-child::after {align-self: flex-end;width: 50%;}#sk-container-id-1 div.sk-parallel-item:last-child::after {align-self: flex-start;width: 50%;}#sk-container-id-1 div.sk-parallel-item:only-child::after {width: 0;}#sk-container-id-1 div.sk-dashed-wrapped {border: 1px dashed gray;margin: 0 0.4em 0.5em 0.4em;box-sizing: border-box;padding-bottom: 0.4em;background-color: white;}#sk-container-id-1 div.sk-label label {font-family: monospace;font-weight: bold;display: inline-block;line-height: 1.2em;}#sk-container-id-1 div.sk-label-container {text-align: center;}#sk-container-id-1 div.sk-container {/* jupyter's `normalize.less` sets `[hidden] { display: none; }` but bootstrap.min.css set `[hidden] { display: none !important; }` so we also need the `!important` here to be able to override the default hidden behavior on the sphinx rendered scikit-learn.org. See: https://github.com/scikit-learn/scikit-learn/issues/21755 */display: inline-block !important;position: relative;}#sk-container-id-1 div.sk-text-repr-fallback {display: none;}</style><div id=\"sk-container-id-1\" class=\"sk-top-container\"><div class=\"sk-text-repr-fallback\"><pre>CategoricalNB()</pre><b>In a Jupyter environment, please rerun this cell to show the HTML representation or trust the notebook. <br />On GitHub, the HTML representation is unable to render, please try loading this page with nbviewer.org.</b></div><div class=\"sk-container\" hidden><div class=\"sk-item\"><div class=\"sk-estimator sk-toggleable\"><input class=\"sk-toggleable__control sk-hidden--visually\" id=\"sk-estimator-id-1\" type=\"checkbox\" checked><label for=\"sk-estimator-id-1\" class=\"sk-toggleable__label sk-toggleable__label-arrow\">CategoricalNB</label><div class=\"sk-toggleable__content\"><pre>CategoricalNB()</pre></div></div></div></div></div>"
      ],
      "text/plain": [
       "CategoricalNB()"
      ]
     },
     "execution_count": 113,
     "metadata": {},
     "output_type": "execute_result"
    }
   ],
   "source": [
    "cat_nb.fit(X_train, y_train)"
   ]
  },
  {
   "cell_type": "code",
   "execution_count": 114,
   "id": "60d4b18a",
   "metadata": {},
   "outputs": [],
   "source": [
    "y_pred_2 = cat_nb.predict(X_test)"
   ]
  },
  {
   "cell_type": "code",
   "execution_count": 115,
   "id": "ad1e3b33",
   "metadata": {},
   "outputs": [
    {
     "name": "stdout",
     "output_type": "stream",
     "text": [
      "              precision    recall  f1-score   support\n",
      "\n",
      "           0       0.83      0.91      0.87        11\n",
      "           1       0.83      0.71      0.77         7\n",
      "\n",
      "    accuracy                           0.83        18\n",
      "   macro avg       0.83      0.81      0.82        18\n",
      "weighted avg       0.83      0.83      0.83        18\n",
      "\n"
     ]
    },
    {
     "data": {
      "image/png": "[encoded data removed]",
      "text/plain": [
       "<Figure size 1200x500 with 1 Axes>"
      ]
     },
     "metadata": {},
     "output_type": "display_data"
    }
   ],
   "source": [
    "print(classification_report(y_test, y_pred_2))\n",
    "cm = confusion_matrix(y_test, y_pred_2)\n",
    "plt.figure(figsize=(12, 5))\n",
    "sns.heatmap(cm, annot=True, cbar=False, cmap='Blues')\n",
    "plt.xlabel('y_pred')\n",
    "plt.ylabel('y_test')\n",
    "plt.show()"
   ]
  },
  {
   "cell_type": "code",
   "execution_count": 116,
   "id": "96a77c9f",
   "metadata": {},
   "outputs": [
    {
     "data": {
      "image/png": "[encoded data removed]",
      "text/plain": [
       "<Figure size 640x480 with 1 Axes>"
      ]
     },
     "metadata": {},
     "output_type": "display_data"
    }
   ],
   "source": [
    "fpr,tpr, _ =metrics.roc_curve(y_test,y_pred_2)\n",
    "auc=metrics.roc_auc_score(y_test,y_pred_2)\n",
    "plt.plot(fpr,tpr, label=\"CNB: Roc_curve, auc=\" +str(auc))\n",
    "plt.legend()\n",
    "plt.show()"
   ]
  },
  {
   "cell_type": "code",
   "execution_count": 117,
   "id": "4a62746b",
   "metadata": {},
   "outputs": [
    {
     "data": {
      "text/plain": [
       "0.8193979933110367"
      ]
     },
     "execution_count": 117,
     "metadata": {},
     "output_type": "execute_result"
    }
   ],
   "source": [
    "sklearn.metrics.f1_score(y_test, y_pred_2, average=\"macro\")"
   ]
  },
  {
   "cell_type": "markdown",
   "id": "47296371",
   "metadata": {},
   "source": [
    "Logistic Regression "
   ]
  },
  {
   "cell_type": "code",
   "execution_count": 118,
   "id": "8080d3ca",
   "metadata": {},
   "outputs": [],
   "source": [
    "X_train, X_test, y_train, y_test = train_test_split(X, y, test_size=0.15, random_state=1)"
   ]
  },
  {
   "cell_type": "code",
   "execution_count": 119,
   "id": "dc295203",
   "metadata": {},
   "outputs": [],
   "source": [
    "from math import sqrt\n",
    "from sklearn.linear_model import LogisticRegression"
   ]
  },
  {
   "cell_type": "code",
   "execution_count": 120,
   "id": "4958eed0",
   "metadata": {},
   "outputs": [],
   "source": [
    "log_regression_alg = LogisticRegression(solver='liblinear', max_iter=30)"
   ]
  },
  {
   "cell_type": "code",
   "execution_count": 121,
   "id": "b28ed9ca",
   "metadata": {},
   "outputs": [],
   "source": [
    "pipeline_trois = Pipeline([\n",
    "                          ('stand', StandardScaler()),\n",
    "                          ('logreg',log_regression_alg)\n",
    "])\n",
    "                                    "
   ]
  },
  {
   "cell_type": "code",
   "execution_count": 122,
   "id": "14984691",
   "metadata": {},
   "outputs": [
    {
     "data": {
      "text/html": [
       "<style>#sk-container-id-2 {color: black;background-color: white;}#sk-container-id-2 pre{padding: 0;}#sk-container-id-2 div.sk-toggleable {background-color: white;}#sk-container-id-2 label.sk-toggleable__label {cursor: pointer;display: block;width: 100%;margin-bottom: 0;padding: 0.3em;box-sizing: border-box;text-align: center;}#sk-container-id-2 label.sk-toggleable__label-arrow:before {content: \"▸\";float: left;margin-right: 0.25em;color: #696969;}#sk-container-id-2 label.sk-toggleable__label-arrow:hover:before {color: black;}#sk-container-id-2 div.sk-estimator:hover label.sk-toggleable__label-arrow:before {color: black;}#sk-container-id-2 div.sk-toggleable__content {max-height: 0;max-width: 0;overflow: hidden;text-align: left;background-color: #f0f8ff;}#sk-container-id-2 div.sk-toggleable__content pre {margin: 0.2em;color: black;border-radius: 0.25em;background-color: #f0f8ff;}#sk-container-id-2 input.sk-toggleable__control:checked~div.sk-toggleable__content {max-height: 200px;max-width: 100%;overflow: auto;}#sk-container-id-2 input.sk-toggleable__control:checked~label.sk-toggleable__label-arrow:before {content: \"▾\";}#sk-container-id-2 div.sk-estimator input.sk-toggleable__control:checked~label.sk-toggleable__label {background-color: #d4ebff;}#sk-container-id-2 div.sk-label input.sk-toggleable__control:checked~label.sk-toggleable__label {background-color: #d4ebff;}#sk-container-id-2 input.sk-hidden--visually {border: 0;clip: rect(1px 1px 1px 1px);clip: rect(1px, 1px, 1px, 1px);height: 1px;margin: -1px;overflow: hidden;padding: 0;position: absolute;width: 1px;}#sk-container-id-2 div.sk-estimator {font-family: monospace;background-color: #f0f8ff;border: 1px dotted black;border-radius: 0.25em;box-sizing: border-box;margin-bottom: 0.5em;}#sk-container-id-2 div.sk-estimator:hover {background-color: #d4ebff;}#sk-container-id-2 div.sk-parallel-item::after {content: \"\";width: 100%;border-bottom: 1px solid gray;flex-grow: 1;}#sk-container-id-2 div.sk-label:hover label.sk-toggleable__label {background-color: #d4ebff;}#sk-container-id-2 div.sk-serial::before {content: \"\";position: absolute;border-left: 1px solid gray;box-sizing: border-box;top: 0;bottom: 0;left: 50%;z-index: 0;}#sk-container-id-2 div.sk-serial {display: flex;flex-direction: column;align-items: center;background-color: white;padding-right: 0.2em;padding-left: 0.2em;position: relative;}#sk-container-id-2 div.sk-item {position: relative;z-index: 1;}#sk-container-id-2 div.sk-parallel {display: flex;align-items: stretch;justify-content: center;background-color: white;position: relative;}#sk-container-id-2 div.sk-item::before, #sk-container-id-2 div.sk-parallel-item::before {content: \"\";position: absolute;border-left: 1px solid gray;box-sizing: border-box;top: 0;bottom: 0;left: 50%;z-index: -1;}#sk-container-id-2 div.sk-parallel-item {display: flex;flex-direction: column;z-index: 1;position: relative;background-color: white;}#sk-container-id-2 div.sk-parallel-item:first-child::after {align-self: flex-end;width: 50%;}#sk-container-id-2 div.sk-parallel-item:last-child::after {align-self: flex-start;width: 50%;}#sk-container-id-2 div.sk-parallel-item:only-child::after {width: 0;}#sk-container-id-2 div.sk-dashed-wrapped {border: 1px dashed gray;margin: 0 0.4em 0.5em 0.4em;box-sizing: border-box;padding-bottom: 0.4em;background-color: white;}#sk-container-id-2 div.sk-label label {font-family: monospace;font-weight: bold;display: inline-block;line-height: 1.2em;}#sk-container-id-2 div.sk-label-container {text-align: center;}#sk-container-id-2 div.sk-container {/* jupyter's `normalize.less` sets `[hidden] { display: none; }` but bootstrap.min.css set `[hidden] { display: none !important; }` so we also need the `!important` here to be able to override the default hidden behavior on the sphinx rendered scikit-learn.org. See: https://github.com/scikit-learn/scikit-learn/issues/21755 */display: inline-block !important;position: relative;}#sk-container-id-2 div.sk-text-repr-fallback {display: none;}</style><div id=\"sk-container-id-2\" class=\"sk-top-container\"><div class=\"sk-text-repr-fallback\"><pre>Pipeline(steps=[(&#x27;stand&#x27;, StandardScaler()),\n",
       "                (&#x27;logreg&#x27;,\n",
       "                 LogisticRegression(max_iter=30, solver=&#x27;liblinear&#x27;))])</pre><b>In a Jupyter environment, please rerun this cell to show the HTML representation or trust the notebook. <br />On GitHub, the HTML representation is unable to render, please try loading this page with nbviewer.org.</b></div><div class=\"sk-container\" hidden><div class=\"sk-item sk-dashed-wrapped\"><div class=\"sk-label-container\"><div class=\"sk-label sk-toggleable\"><input class=\"sk-toggleable__control sk-hidden--visually\" id=\"sk-estimator-id-2\" type=\"checkbox\" ><label for=\"sk-estimator-id-2\" class=\"sk-toggleable__label sk-toggleable__label-arrow\">Pipeline</label><div class=\"sk-toggleable__content\"><pre>Pipeline(steps=[(&#x27;stand&#x27;, StandardScaler()),\n",
       "                (&#x27;logreg&#x27;,\n",
       "                 LogisticRegression(max_iter=30, solver=&#x27;liblinear&#x27;))])</pre></div></div></div><div class=\"sk-serial\"><div class=\"sk-item\"><div class=\"sk-estimator sk-toggleable\"><input class=\"sk-toggleable__control sk-hidden--visually\" id=\"sk-estimator-id-3\" type=\"checkbox\" ><label for=\"sk-estimator-id-3\" class=\"sk-toggleable__label sk-toggleable__label-arrow\">StandardScaler</label><div class=\"sk-toggleable__content\"><pre>StandardScaler()</pre></div></div></div><div class=\"sk-item\"><div class=\"sk-estimator sk-toggleable\"><input class=\"sk-toggleable__control sk-hidden--visually\" id=\"sk-estimator-id-4\" type=\"checkbox\" ><label for=\"sk-estimator-id-4\" class=\"sk-toggleable__label sk-toggleable__label-arrow\">LogisticRegression</label><div class=\"sk-toggleable__content\"><pre>LogisticRegression(max_iter=30, solver=&#x27;liblinear&#x27;)</pre></div></div></div></div></div></div></div>"
      ],
      "text/plain": [
       "Pipeline(steps=[('stand', StandardScaler()),\n",
       "                ('logreg',\n",
       "                 LogisticRegression(max_iter=30, solver='liblinear'))])"
      ]
     },
     "execution_count": 122,
     "metadata": {},
     "output_type": "execute_result"
    }
   ],
   "source": [
    "pipeline_trois.fit(X_train,y_train)"
   ]
  },
  {
   "cell_type": "code",
   "execution_count": 123,
   "id": "16676b61",
   "metadata": {},
   "outputs": [],
   "source": [
    "y_pred_trois = pipeline_trois.predict(X_test)"
   ]
  },
  {
   "cell_type": "code",
   "execution_count": 124,
   "id": "4881c0dc",
   "metadata": {},
   "outputs": [
    {
     "name": "stdout",
     "output_type": "stream",
     "text": [
      "              precision    recall  f1-score   support\n",
      "\n",
      "           0       0.58      0.64      0.61        11\n",
      "           1       0.33      0.29      0.31         7\n",
      "\n",
      "    accuracy                           0.50        18\n",
      "   macro avg       0.46      0.46      0.46        18\n",
      "weighted avg       0.49      0.50      0.49        18\n",
      "\n"
     ]
    }
   ],
   "source": [
    "print(classification_report(y_test,y_pred_trois))"
   ]
  },
  {
   "cell_type": "code",
   "execution_count": 125,
   "id": "2fbe2dc8",
   "metadata": {},
   "outputs": [
    {
     "data": {
      "image/png": "[encoded data removed]",
      "text/plain": [
       "<Figure size 1200x500 with 1 Axes>"
      ]
     },
     "metadata": {},
     "output_type": "display_data"
    }
   ],
   "source": [
    "cm = confusion_matrix(y_test, y_pred_trois)\n",
    "plt.figure(figsize=(12, 5))\n",
    "sns.heatmap(cm, annot=True, cbar=False, cmap='Blues')\n",
    "plt.xlabel('y_pred')\n",
    "plt.ylabel('y_test')\n",
    "plt.show()"
   ]
  },
  {
   "cell_type": "code",
   "execution_count": 126,
   "id": "c5db1b5d",
   "metadata": {},
   "outputs": [
    {
     "data": {
      "image/png": "[encoded data removed]",
      "text/plain": [
       "<Figure size 640x480 with 1 Axes>"
      ]
     },
     "metadata": {},
     "output_type": "display_data"
    }
   ],
   "source": [
    "fpr,tpr, _ =metrics.roc_curve(y_test,y_pred_trois)\n",
    "auc=metrics.roc_auc_score(y_test,y_pred_trois)\n",
    "plt.plot(fpr,tpr, label=\"LR: Roc_curve, auc=\" +str(auc))\n",
    "plt.legend()\n",
    "plt.show()"
   ]
  },
  {
   "cell_type": "code",
   "execution_count": 127,
   "id": "5d94fc1f",
   "metadata": {},
   "outputs": [
    {
     "data": {
      "text/plain": [
       "0.4581939799331104"
      ]
     },
     "execution_count": 127,
     "metadata": {},
     "output_type": "execute_result"
    }
   ],
   "source": [
    "sklearn.metrics.f1_score(y_test, y_pred_trois, average=\"macro\")"
   ]
  },
  {
   "cell_type": "code",
   "execution_count": null,
   "id": "2f2f35a1",
   "metadata": {},
   "outputs": [],
   "source": []
  }
 ],
 "metadata": {
  "kernelspec": {
   "display_name": "Python 3 (ipykernel)",
   "language": "python",
   "name": "python3"
  },
  "language_info": {
   "codemirror_mode": {
    "name": "ipython",
    "version": 3
   },
   "file_extension": ".py",
   "mimetype": "text/x-python",
   "name": "python",
   "nbconvert_exporter": "python",
   "pygments_lexer": "ipython3",
   "version": "3.11.5"
  }
 },
 "nbformat": 4,
 "nbformat_minor": 5
}
